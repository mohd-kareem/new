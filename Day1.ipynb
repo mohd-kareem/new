{
 "cells": [
  {
   "cell_type": "markdown",
   "metadata": {},
   "source": [
    "# write program for odd or even number by using range function\n",
    "# write program for odd or even number by if else statement\n",
    "# write program for checking prime number\n",
    "# write program for palindrome checking by using if statment\n",
    "# Write program for factorial number finding"
   ]
  },
  {
   "cell_type": "code",
   "execution_count": null,
   "metadata": {},
   "outputs": [],
   "source": []
  },
  {
   "cell_type": "markdown",
   "metadata": {},
   "source": [
    "# write program for checking prime number"
   ]
  },
  {
   "cell_type": "code",
   "execution_count": 1,
   "metadata": {},
   "outputs": [
    {
     "name": "stdout",
     "output_type": "stream",
     "text": [
      "33 is not a prime number\n"
     ]
    }
   ],
   "source": [
    "A=int(input())\n",
    "if A > 1:\n",
    "    for i in range(2, (A//2)+1):\n",
    "        if (A % i) == 0:\n",
    "            print(A, \"is not a prime number\")\n",
    "            break\n",
    "    else:\n",
    "        print(A, \"is a prime number\")\n",
    "else:\n",
    "    print(A, \"is not a prime number\")"
   ]
  }
 ],
 "metadata": {
  "kernelspec": {
   "display_name": "Python 3",
   "language": "python",
   "name": "python3"
  },
  "language_info": {
   "codemirror_mode": {
    "name": "ipython",
    "version": 3
   },
   "file_extension": ".py",
   "mimetype": "text/x-python",
   "name": "python",
   "nbconvert_exporter": "python",
   "pygments_lexer": "ipython3",
   "version": "3.12.3"
  }
 },
 "nbformat": 4,
 "nbformat_minor": 2
}
